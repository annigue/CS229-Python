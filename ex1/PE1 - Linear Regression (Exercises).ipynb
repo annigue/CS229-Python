{
  "cells": [
    {
      "cell_type": "markdown",
      "metadata": {
        "id": "d6kJ-cfLedBp"
      },
      "source": [
        "# Linear Regression\n",
        "\n",
        "Stanford CS229 - Machine Learning by Andrew Ng. Programming exercise 1.\n",
        "\n",
        "Please check out [the repository on GitHub](https://github.com/rickwierenga/CS229-Python/). If you spot any mistakes or inconcistencies, please create an issue. For questions you can find me on Twitter: [@rickwierenga](https://twitter.com/rickwierenga). Starring the project on GitHub means a ton to me!"
      ]
    },
    {
      "cell_type": "code",
      "execution_count": 1,
      "metadata": {
        "id": "D1MDtlCBedBq"
      },
      "outputs": [],
      "source": [
        "import numpy as np\n",
        "import pandas as pd\n",
        "import matplotlib.pylab as plt\n",
        "%matplotlib inline"
      ]
    },
    {
      "cell_type": "markdown",
      "metadata": {
        "id": "PI6agDGzedBq"
      },
      "source": [
        "## Linear Regression with a single variable\n",
        "---\n",
        "In this part of this exercise, you will implement linear regression with one variable to predict profits for a food truck. Suppose you are the CEO of a restaurant franchise and are considering different cities for opening a new outlet. The chain already has trucks in various cities and you have data for profits and populations from the cities. You would like to use this data to help you select which city to expand to next."
      ]
    },
    {
      "cell_type": "code",
      "execution_count": 2,
      "metadata": {
        "colab": {
          "base_uri": "https://localhost:8080/",
          "height": 417
        },
        "id": "fOqzaCGCedBq",
        "outputId": "92dfa297-fbc7-4b3d-97f5-b0f6455d270f"
      },
      "outputs": [
        {
          "output_type": "stream",
          "name": "stdout",
          "text": [
            "--2025-04-09 12:39:09--  https://raw.githubusercontent.com/annigue/CS229-Python/master/ex1/ex1data1.txt\n",
            "Resolving raw.githubusercontent.com (raw.githubusercontent.com)... 185.199.109.133, 185.199.111.133, 185.199.108.133, ...\n",
            "Connecting to raw.githubusercontent.com (raw.githubusercontent.com)|185.199.109.133|:443... connected.\n",
            "HTTP request sent, awaiting response... 200 OK\n",
            "Length: 1359 (1.3K) [text/plain]\n",
            "Saving to: ‘ex1data1.txt’\n",
            "\n",
            "\rex1data1.txt          0%[                    ]       0  --.-KB/s               \rex1data1.txt        100%[===================>]   1.33K  --.-KB/s    in 0s      \n",
            "\n",
            "2025-04-09 12:39:09 (63.0 MB/s) - ‘ex1data1.txt’ saved [1359/1359]\n",
            "\n"
          ]
        },
        {
          "output_type": "execute_result",
          "data": {
            "text/plain": [
              "   Population   Profit\n",
              "0      6.1101  17.5920\n",
              "1      5.5277   9.1302\n",
              "2      8.5186  13.6620\n",
              "3      7.0032  11.8540\n",
              "4      5.8598   6.8233"
            ],
            "text/html": [
              "\n",
              "  <div id=\"df-8b8462b3-485f-41a1-bc94-483f07363db9\" class=\"colab-df-container\">\n",
              "    <div>\n",
              "<style scoped>\n",
              "    .dataframe tbody tr th:only-of-type {\n",
              "        vertical-align: middle;\n",
              "    }\n",
              "\n",
              "    .dataframe tbody tr th {\n",
              "        vertical-align: top;\n",
              "    }\n",
              "\n",
              "    .dataframe thead th {\n",
              "        text-align: right;\n",
              "    }\n",
              "</style>\n",
              "<table border=\"1\" class=\"dataframe\">\n",
              "  <thead>\n",
              "    <tr style=\"text-align: right;\">\n",
              "      <th></th>\n",
              "      <th>Population</th>\n",
              "      <th>Profit</th>\n",
              "    </tr>\n",
              "  </thead>\n",
              "  <tbody>\n",
              "    <tr>\n",
              "      <th>0</th>\n",
              "      <td>6.1101</td>\n",
              "      <td>17.5920</td>\n",
              "    </tr>\n",
              "    <tr>\n",
              "      <th>1</th>\n",
              "      <td>5.5277</td>\n",
              "      <td>9.1302</td>\n",
              "    </tr>\n",
              "    <tr>\n",
              "      <th>2</th>\n",
              "      <td>8.5186</td>\n",
              "      <td>13.6620</td>\n",
              "    </tr>\n",
              "    <tr>\n",
              "      <th>3</th>\n",
              "      <td>7.0032</td>\n",
              "      <td>11.8540</td>\n",
              "    </tr>\n",
              "    <tr>\n",
              "      <th>4</th>\n",
              "      <td>5.8598</td>\n",
              "      <td>6.8233</td>\n",
              "    </tr>\n",
              "  </tbody>\n",
              "</table>\n",
              "</div>\n",
              "    <div class=\"colab-df-buttons\">\n",
              "\n",
              "  <div class=\"colab-df-container\">\n",
              "    <button class=\"colab-df-convert\" onclick=\"convertToInteractive('df-8b8462b3-485f-41a1-bc94-483f07363db9')\"\n",
              "            title=\"Convert this dataframe to an interactive table.\"\n",
              "            style=\"display:none;\">\n",
              "\n",
              "  <svg xmlns=\"http://www.w3.org/2000/svg\" height=\"24px\" viewBox=\"0 -960 960 960\">\n",
              "    <path d=\"M120-120v-720h720v720H120Zm60-500h600v-160H180v160Zm220 220h160v-160H400v160Zm0 220h160v-160H400v160ZM180-400h160v-160H180v160Zm440 0h160v-160H620v160ZM180-180h160v-160H180v160Zm440 0h160v-160H620v160Z\"/>\n",
              "  </svg>\n",
              "    </button>\n",
              "\n",
              "  <style>\n",
              "    .colab-df-container {\n",
              "      display:flex;\n",
              "      gap: 12px;\n",
              "    }\n",
              "\n",
              "    .colab-df-convert {\n",
              "      background-color: #E8F0FE;\n",
              "      border: none;\n",
              "      border-radius: 50%;\n",
              "      cursor: pointer;\n",
              "      display: none;\n",
              "      fill: #1967D2;\n",
              "      height: 32px;\n",
              "      padding: 0 0 0 0;\n",
              "      width: 32px;\n",
              "    }\n",
              "\n",
              "    .colab-df-convert:hover {\n",
              "      background-color: #E2EBFA;\n",
              "      box-shadow: 0px 1px 2px rgba(60, 64, 67, 0.3), 0px 1px 3px 1px rgba(60, 64, 67, 0.15);\n",
              "      fill: #174EA6;\n",
              "    }\n",
              "\n",
              "    .colab-df-buttons div {\n",
              "      margin-bottom: 4px;\n",
              "    }\n",
              "\n",
              "    [theme=dark] .colab-df-convert {\n",
              "      background-color: #3B4455;\n",
              "      fill: #D2E3FC;\n",
              "    }\n",
              "\n",
              "    [theme=dark] .colab-df-convert:hover {\n",
              "      background-color: #434B5C;\n",
              "      box-shadow: 0px 1px 3px 1px rgba(0, 0, 0, 0.15);\n",
              "      filter: drop-shadow(0px 1px 2px rgba(0, 0, 0, 0.3));\n",
              "      fill: #FFFFFF;\n",
              "    }\n",
              "  </style>\n",
              "\n",
              "    <script>\n",
              "      const buttonEl =\n",
              "        document.querySelector('#df-8b8462b3-485f-41a1-bc94-483f07363db9 button.colab-df-convert');\n",
              "      buttonEl.style.display =\n",
              "        google.colab.kernel.accessAllowed ? 'block' : 'none';\n",
              "\n",
              "      async function convertToInteractive(key) {\n",
              "        const element = document.querySelector('#df-8b8462b3-485f-41a1-bc94-483f07363db9');\n",
              "        const dataTable =\n",
              "          await google.colab.kernel.invokeFunction('convertToInteractive',\n",
              "                                                    [key], {});\n",
              "        if (!dataTable) return;\n",
              "\n",
              "        const docLinkHtml = 'Like what you see? Visit the ' +\n",
              "          '<a target=\"_blank\" href=https://colab.research.google.com/notebooks/data_table.ipynb>data table notebook</a>'\n",
              "          + ' to learn more about interactive tables.';\n",
              "        element.innerHTML = '';\n",
              "        dataTable['output_type'] = 'display_data';\n",
              "        await google.colab.output.renderOutput(dataTable, element);\n",
              "        const docLink = document.createElement('div');\n",
              "        docLink.innerHTML = docLinkHtml;\n",
              "        element.appendChild(docLink);\n",
              "      }\n",
              "    </script>\n",
              "  </div>\n",
              "\n",
              "\n",
              "<div id=\"df-ca499ffe-749f-4e7d-a8d1-1fef71c344ea\">\n",
              "  <button class=\"colab-df-quickchart\" onclick=\"quickchart('df-ca499ffe-749f-4e7d-a8d1-1fef71c344ea')\"\n",
              "            title=\"Suggest charts\"\n",
              "            style=\"display:none;\">\n",
              "\n",
              "<svg xmlns=\"http://www.w3.org/2000/svg\" height=\"24px\"viewBox=\"0 0 24 24\"\n",
              "     width=\"24px\">\n",
              "    <g>\n",
              "        <path d=\"M19 3H5c-1.1 0-2 .9-2 2v14c0 1.1.9 2 2 2h14c1.1 0 2-.9 2-2V5c0-1.1-.9-2-2-2zM9 17H7v-7h2v7zm4 0h-2V7h2v10zm4 0h-2v-4h2v4z\"/>\n",
              "    </g>\n",
              "</svg>\n",
              "  </button>\n",
              "\n",
              "<style>\n",
              "  .colab-df-quickchart {\n",
              "      --bg-color: #E8F0FE;\n",
              "      --fill-color: #1967D2;\n",
              "      --hover-bg-color: #E2EBFA;\n",
              "      --hover-fill-color: #174EA6;\n",
              "      --disabled-fill-color: #AAA;\n",
              "      --disabled-bg-color: #DDD;\n",
              "  }\n",
              "\n",
              "  [theme=dark] .colab-df-quickchart {\n",
              "      --bg-color: #3B4455;\n",
              "      --fill-color: #D2E3FC;\n",
              "      --hover-bg-color: #434B5C;\n",
              "      --hover-fill-color: #FFFFFF;\n",
              "      --disabled-bg-color: #3B4455;\n",
              "      --disabled-fill-color: #666;\n",
              "  }\n",
              "\n",
              "  .colab-df-quickchart {\n",
              "    background-color: var(--bg-color);\n",
              "    border: none;\n",
              "    border-radius: 50%;\n",
              "    cursor: pointer;\n",
              "    display: none;\n",
              "    fill: var(--fill-color);\n",
              "    height: 32px;\n",
              "    padding: 0;\n",
              "    width: 32px;\n",
              "  }\n",
              "\n",
              "  .colab-df-quickchart:hover {\n",
              "    background-color: var(--hover-bg-color);\n",
              "    box-shadow: 0 1px 2px rgba(60, 64, 67, 0.3), 0 1px 3px 1px rgba(60, 64, 67, 0.15);\n",
              "    fill: var(--button-hover-fill-color);\n",
              "  }\n",
              "\n",
              "  .colab-df-quickchart-complete:disabled,\n",
              "  .colab-df-quickchart-complete:disabled:hover {\n",
              "    background-color: var(--disabled-bg-color);\n",
              "    fill: var(--disabled-fill-color);\n",
              "    box-shadow: none;\n",
              "  }\n",
              "\n",
              "  .colab-df-spinner {\n",
              "    border: 2px solid var(--fill-color);\n",
              "    border-color: transparent;\n",
              "    border-bottom-color: var(--fill-color);\n",
              "    animation:\n",
              "      spin 1s steps(1) infinite;\n",
              "  }\n",
              "\n",
              "  @keyframes spin {\n",
              "    0% {\n",
              "      border-color: transparent;\n",
              "      border-bottom-color: var(--fill-color);\n",
              "      border-left-color: var(--fill-color);\n",
              "    }\n",
              "    20% {\n",
              "      border-color: transparent;\n",
              "      border-left-color: var(--fill-color);\n",
              "      border-top-color: var(--fill-color);\n",
              "    }\n",
              "    30% {\n",
              "      border-color: transparent;\n",
              "      border-left-color: var(--fill-color);\n",
              "      border-top-color: var(--fill-color);\n",
              "      border-right-color: var(--fill-color);\n",
              "    }\n",
              "    40% {\n",
              "      border-color: transparent;\n",
              "      border-right-color: var(--fill-color);\n",
              "      border-top-color: var(--fill-color);\n",
              "    }\n",
              "    60% {\n",
              "      border-color: transparent;\n",
              "      border-right-color: var(--fill-color);\n",
              "    }\n",
              "    80% {\n",
              "      border-color: transparent;\n",
              "      border-right-color: var(--fill-color);\n",
              "      border-bottom-color: var(--fill-color);\n",
              "    }\n",
              "    90% {\n",
              "      border-color: transparent;\n",
              "      border-bottom-color: var(--fill-color);\n",
              "    }\n",
              "  }\n",
              "</style>\n",
              "\n",
              "  <script>\n",
              "    async function quickchart(key) {\n",
              "      const quickchartButtonEl =\n",
              "        document.querySelector('#' + key + ' button');\n",
              "      quickchartButtonEl.disabled = true;  // To prevent multiple clicks.\n",
              "      quickchartButtonEl.classList.add('colab-df-spinner');\n",
              "      try {\n",
              "        const charts = await google.colab.kernel.invokeFunction(\n",
              "            'suggestCharts', [key], {});\n",
              "      } catch (error) {\n",
              "        console.error('Error during call to suggestCharts:', error);\n",
              "      }\n",
              "      quickchartButtonEl.classList.remove('colab-df-spinner');\n",
              "      quickchartButtonEl.classList.add('colab-df-quickchart-complete');\n",
              "    }\n",
              "    (() => {\n",
              "      let quickchartButtonEl =\n",
              "        document.querySelector('#df-ca499ffe-749f-4e7d-a8d1-1fef71c344ea button');\n",
              "      quickchartButtonEl.style.display =\n",
              "        google.colab.kernel.accessAllowed ? 'block' : 'none';\n",
              "    })();\n",
              "  </script>\n",
              "</div>\n",
              "\n",
              "    </div>\n",
              "  </div>\n"
            ],
            "application/vnd.google.colaboratory.intrinsic+json": {
              "type": "dataframe",
              "variable_name": "data",
              "summary": "{\n  \"name\": \"data\",\n  \"rows\": 97,\n  \"fields\": [\n    {\n      \"column\": \"Population\",\n      \"properties\": {\n        \"dtype\": \"number\",\n        \"std\": 3.869883527882332,\n        \"min\": 5.0269,\n        \"max\": 22.203,\n        \"num_unique_values\": 97,\n        \"samples\": [\n          21.279,\n          5.4069,\n          5.3054\n        ],\n        \"semantic_type\": \"\",\n        \"description\": \"\"\n      }\n    },\n    {\n      \"column\": \"Profit\",\n      \"properties\": {\n        \"dtype\": \"number\",\n        \"std\": 5.510262255231544,\n        \"min\": -2.6807,\n        \"max\": 24.147,\n        \"num_unique_values\": 97,\n        \"samples\": [\n          17.929,\n          0.55657,\n          1.9869\n        ],\n        \"semantic_type\": \"\",\n        \"description\": \"\"\n      }\n    }\n  ]\n}"
            }
          },
          "metadata": {},
          "execution_count": 2
        }
      ],
      "source": [
        "# start by loading the data\n",
        "!wget https://raw.githubusercontent.com/annigue/CS229-Python/master/ex1/ex1data1.txt\n",
        "data = pd.read_csv('ex1data1.txt', header=None, names=['Population', 'Profit'])\n",
        "\n",
        "# initialize some useful variables\n",
        "m = len(data) # the number of training examples\n",
        "X = np.append(np.ones((m, 1)), np.array(data[\"Population\"]).reshape((m,1)), axis=1) # Add x0, a vector of 1's, to X.\n",
        "y = np.array(data[\"Profit\"]).reshape(m, 1)\n",
        "\n",
        "data.head()"
      ]
    },
    {
      "cell_type": "code",
      "source": [
        "#from google.colab import drive\n",
        "#drive.mount('/content/drive')"
      ],
      "metadata": {
        "id": "AdZe3c6yfDkO"
      },
      "execution_count": null,
      "outputs": []
    },
    {
      "cell_type": "markdown",
      "metadata": {
        "id": "8CptRfr1edBr"
      },
      "source": [
        "### Visualising the data\n",
        "Plotting helps us get insight in the data we are working with. Using the `'bx'` option, we get blue crosses. You can read more about markers [here](https://matplotlib.org/api/markers_api.html)."
      ]
    },
    {
      "cell_type": "code",
      "execution_count": 3,
      "metadata": {
        "colab": {
          "base_uri": "https://localhost:8080/",
          "height": 489
        },
        "id": "WRB6XX7wedBr",
        "outputId": "e626abc8-7d9a-4bba-d437-1cf4eadca207"
      },
      "outputs": [
        {
          "output_type": "execute_result",
          "data": {
            "text/plain": [
              "Text(0.5, 1.0, 'Relation between profit and population')"
            ]
          },
          "metadata": {},
          "execution_count": 3
        },
        {
          "output_type": "display_data",
          "data": {
            "text/plain": [
              "<Figure size 640x480 with 1 Axes>"
            ],
            "image/png": "[encoded data removed]"
          },
          "metadata": {}
        }
      ],
      "source": [
        "plt.plot(data['Population'], data['Profit'], 'bx')\n",
        "plt.xlabel('Population in 10,000')\n",
        "plt.ylabel('Profit in $10,000')\n",
        "plt.title('Relation between profit and population')"
      ]
    },
    {
      "cell_type": "markdown",
      "metadata": {
        "id": "dIlGBwuAedBr"
      },
      "source": [
        "### The hypotheses function\n",
        "Our hypothesis function has the general form:\n",
        "$y= h_\\theta(x)= \\theta_0 + \\theta_1x$\n",
        "Note that this is like the equation of a straight line. We give to $h_\\theta(x)$ values for $\\theta_0$ and $\\theta_1$ to get our estimated output y. In other words, we are trying to create a function called $h_\\theta$ that is trying to map our input data (the x's) to our output data (the y's).\n",
        "\n",
        "### Cost function\n",
        "\n",
        "The cost functions yields \"how far off\" our hypotheses $h_\\theta$ is. It takes the avarage of the distance between our hypothesis and the actual point and squares it. Formally, the cost function has the following definition:\n",
        "\n",
        "$J(\\theta) = \\frac{1}{2m} \\displaystyle\\sum_{i = 0}^{m}(h_θ(x^{(i)}) - y^{(i)})^2$\n",
        "\n",
        "#### Vectorization\n",
        "Vectorizations is the act of replacing the loops in a computer program with matrix operations. If you have a good linear algebra library (like numpy), the library will optimize the code automatically for the computer the code runs on. Mathematically, the 'regular' function should mean the same as the vectorized function.\n",
        "\n",
        "Gradient descent vectorized:\n",
        "$\\theta = \\frac{1}{2m}(X\\theta - \\vec{y})^T(X\\theta-\\vec{y})$\n",
        "\n",
        "**Exercise**: Implement a vectorized implementation of the cost function."
      ]
    },
    {
      "cell_type": "code",
      "execution_count": 9,
      "metadata": {
        "id": "RgJswa1dedBr"
      },
      "outputs": [],
      "source": [
        "# Die Kostenfunktion (cost_function) gibt einen einzelnen Wert zurück – eine Zahl, die angibt, wie gut oder schlecht dein aktueller theta-Vektor ist.\n",
        "# Es handelt sich um die mittlere quadratische Abweichung zwischen den Vorhersagen deines Modells und den tatsächlichen Zielwerten. --> je kleiner desto besser\n",
        "def cost_function(X, y, theta):\n",
        "    \"\"\" Computes the cost of using theta as the parameter for linear gression to fit the data in X and y. \"\"\"\n",
        "    #m = len(y)\n",
        "    predictions = X @ theta           # oder np.dot(X, theta)\n",
        "    errors = predictions - y\n",
        "    cost = (1 / (2 * m)) * (errors.T @ errors)  # oder np.dot(errors.T, errors)\n",
        "    return cost\n"
      ]
    },
    {
      "cell_type": "code",
      "source": [
        "theta = np.array([0,0]) #angegebener Wert für theta\n",
        "print(cost_function(X,y,theta))"
      ],
      "metadata": {
        "colab": {
          "base_uri": "https://localhost:8080/"
        },
        "id": "KVyFJTXzoMoM",
        "outputId": "9d386633-b3d8-4946-af16-61c506d652c4"
      },
      "execution_count": 12,
      "outputs": [
        {
          "output_type": "stream",
          "name": "stdout",
          "text": [
            "[[32.07273388 32.07273388 32.07273388 ... 32.07273388 32.07273388\n",
            "  32.07273388]\n",
            " [32.07273388 32.07273388 32.07273388 ... 32.07273388 32.07273388\n",
            "  32.07273388]\n",
            " [32.07273388 32.07273388 32.07273388 ... 32.07273388 32.07273388\n",
            "  32.07273388]\n",
            " ...\n",
            " [32.07273388 32.07273388 32.07273388 ... 32.07273388 32.07273388\n",
            "  32.07273388]\n",
            " [32.07273388 32.07273388 32.07273388 ... 32.07273388 32.07273388\n",
            "  32.07273388]\n",
            " [32.07273388 32.07273388 32.07273388 ... 32.07273388 32.07273388\n",
            "  32.07273388]]\n"
          ]
        }
      ]
    },
    {
      "cell_type": "markdown",
      "metadata": {
        "id": "uD9qXs16edBr"
      },
      "source": [
        "With $\\theta = \\begin{bmatrix}0 & 0\\end{bmatrix}$, $J(\\theta)$ should return 32.07."
      ]
    },
    {
      "cell_type": "code",
      "execution_count": 13,
      "metadata": {
        "colab": {
          "base_uri": "https://localhost:8080/"
        },
        "id": "i7f54jpLedBr",
        "outputId": "3567cb9a-4191-4432-a506-88c0633e6255"
      },
      "outputs": [
        {
          "output_type": "stream",
          "name": "stdout",
          "text": [
            "[[32.07273388]]\n"
          ]
        }
      ],
      "source": [
        "initial_theta = np.zeros((2,1)) #erzeugt Nullvektor als Startpunkt für den Algorithmus\n",
        "print(cost_function(X, y, initial_theta))"
      ]
    },
    {
      "cell_type": "markdown",
      "metadata": {
        "id": "dAnaDdOcedBs"
      },
      "source": [
        "### Gradient descent\n",
        "We want are hypothesis $h_\\theta(x)$ to function as good as possibly. Therefore, we want to minimalize the cost function $J(\\theta)$. Gradient descent is an algorithm used to do that.\n",
        "\n",
        "The formal definition of gradient descent:\n",
        "\n",
        "$repeat \\ \\{ \\\\ \\enspace \\theta_j := \\theta_j - \\alpha \\frac{1}{m}\\displaystyle\\sum_{i = 1}^{m}(h_\\theta(x^{(i)})-y^{(i)})x_j^{(i)}\\\\\\}$\n",
        "\n",
        "An illustration of gradient descent on a single variable:\n",
        "<div>\n",
        "    <img style='max-width:50%;' src='https://github.com/annigue/CS229-Python/blob/master/ex1/notes/gradientdescent.png?raw=1'>\n",
        "</div>\n",
        "\n",
        "**Exercise**: Implement the gradient descent algorithm in Python."
      ]
    },
    {
      "cell_type": "code",
      "execution_count": 16,
      "metadata": {
        "id": "dFtq843KedBs"
      },
      "outputs": [],
      "source": [
        "# Funktion gradient descent für lineare regression mit mehreren feature\n",
        "# X\tDesign-Matrix mit Features (inkl. 1. Spalte für Bias)\n",
        "# y\tZielwerte (tatsächliche y-Werte)\n",
        "# theta\tStartwerte für die Parameter, die du optimieren willst\n",
        "# alpha\tLernrate: wie groß jeder Schritt ist\n",
        "# iterations\tWie oft soll aktualisiert werden\n",
        "\n",
        "def gradient_descent(X, y, theta, alpha, iterations):\n",
        "    \"\"\" Performs gradient descent to learn theta.\n",
        "    Returns the found value for theta and the history of the cost function.\n",
        "    \"\"\"\n",
        "    J_history = [] #→ Liste zum Speichern der Kostenfunktion\n",
        "    for i in range(iterations): #→ Wiederhole so ift wie iterations nach jeder Iteration (zum Plotten oder Debugging)\n",
        "      predictions = X @ theta #→ Berechne Vorhersagen für alle Beispiele mit dem aktuellen theta: y_hat = X*theta\n",
        "      errors = predictions -y #→ Differenz zwischen Vorhersage und tatsächlichem Wert (also der \"Fehler\")\n",
        "      theta = theta - (alpha / m) * (X.T @ errors)  #→ Der Gradienten-Descent-Schritt!: Aktualisiere theta durch:\n",
        "      # X.T @ errors: der Gradient (Richtung, in der der Fehler am stärksten zunimmt)\n",
        "      # alpha / m: Skalierung – Lernrate geteilt durch Anzahl der Beispiele\n",
        "      # theta - ...: du gehst einen kleinen Schritt gegen den Gradienten\n",
        "      J_history.append(cost_function(X,y,theta)[0,0]) # → Speichere den aktuellen Wert der Kostenfunktion in der Liste J_history\n",
        "       # (Warum [0,0]? → Weil cost_function(...) einen 2D-Array mit einer Zahl zurückgibt)\n",
        "    return theta, J_history # theta: die gelernten optimalen Parameter, J_history: Verlauf der Kostenfunktion über die Iterationen (kann man z. B. plotten)"
      ]
    },
    {
      "cell_type": "markdown",
      "metadata": {
        "id": "2S8tAHhbedBs"
      },
      "source": [
        "Gradient descent should have found approximately the following: $\\theta = \\begin{bmatrix}-3.6303\\\\1.1664\\end{bmatrix}$"
      ]
    },
    {
      "cell_type": "code",
      "execution_count": 26,
      "metadata": {
        "scrolled": true,
        "colab": {
          "base_uri": "https://localhost:8080/"
        },
        "id": "WX4u1MS0edBs",
        "outputId": "92e9c7a8-6501-4ce5-9b1e-d27017cdc860"
      },
      "outputs": [
        {
          "output_type": "execute_result",
          "data": {
            "text/plain": [
              "array([[-3.63029144],\n",
              "       [ 1.16636235]])"
            ]
          },
          "metadata": {},
          "execution_count": 26
        }
      ],
      "source": [
        "# You can change different values for these variables\n",
        "alpha = 0.01\n",
        "iterations = 1500\n",
        "\n",
        "theta, J_history = gradient_descent(X, y, initial_theta, alpha, iterations)\n",
        "theta"
      ]
    },
    {
      "cell_type": "markdown",
      "metadata": {
        "id": "BiBuvD-redBs"
      },
      "source": [
        "### Using the results\n",
        "#### Plotting the regularization line"
      ]
    },
    {
      "cell_type": "code",
      "execution_count": 27,
      "metadata": {
        "colab": {
          "base_uri": "https://localhost:8080/",
          "height": 447
        },
        "id": "uH_LQl1yedBs",
        "outputId": "25a77ac8-15f7-4f28-9637-31d547bec796"
      },
      "outputs": [
        {
          "output_type": "execute_result",
          "data": {
            "text/plain": [
              "[<matplotlib.lines.Line2D at 0x79a37c3108d0>]"
            ]
          },
          "metadata": {},
          "execution_count": 27
        },
        {
          "output_type": "display_data",
          "data": {
            "text/plain": [
              "<Figure size 640x480 with 1 Axes>"
            ],
            "image/png": "[encoded data removed]"
          },
          "metadata": {}
        }
      ],
      "source": [
        "plt.plot(X[:,1], y, 'rx', label='Training data')\n",
        "plt.plot(X[:,1], X.dot(theta), label='Linear regression')"
      ]
    },
    {
      "cell_type": "markdown",
      "metadata": {
        "id": "okUBboOxedBs"
      },
      "source": [
        "#### Plotting the cost history\n",
        "A plot of how $J(\\theta)$ decreases over time. This is are model learning."
      ]
    },
    {
      "cell_type": "code",
      "execution_count": 28,
      "metadata": {
        "scrolled": true,
        "colab": {
          "base_uri": "https://localhost:8080/",
          "height": 447
        },
        "id": "4qpmwc3bedBs",
        "outputId": "92e93925-f8e1-4923-ab3a-d373793c246b"
      },
      "outputs": [
        {
          "output_type": "execute_result",
          "data": {
            "text/plain": [
              "[<matplotlib.lines.Line2D at 0x79a37c313790>]"
            ]
          },
          "metadata": {},
          "execution_count": 28
        },
        {
          "output_type": "display_data",
          "data": {
            "text/plain": [
              "<Figure size 640x480 with 1 Axes>"
            ],
            "image/png": "[encoded data removed]"
          },
          "metadata": {}
        }
      ],
      "source": [
        "plt.plot(J_history)"
      ]
    },
    {
      "cell_type": "markdown",
      "metadata": {
        "id": "iveY7X8TedBs"
      },
      "source": [
        "#### Making a prediction using the model\n",
        "The model can be used by calculating the dot product of the input and $\\theta$."
      ]
    },
    {
      "cell_type": "code",
      "execution_count": 29,
      "metadata": {
        "colab": {
          "base_uri": "https://localhost:8080/",
          "height": 90
        },
        "id": "B5p6OEededBs",
        "outputId": "e991aaea-ea69-49bc-b082-25c8c137cb36"
      },
      "outputs": [
        {
          "output_type": "stream",
          "name": "stderr",
          "text": [
            "<ipython-input-29-a4e48c6d5631>:2: DeprecationWarning: Conversion of an array with ndim > 0 to a scalar is deprecated, and will error in future. Ensure you extract a single element from your array before performing this operation. (Deprecated NumPy 1.25.)\n",
            "  'In a city with a population of 35000, we predict a profit of $%.2f' % prediction\n"
          ]
        },
        {
          "output_type": "execute_result",
          "data": {
            "text/plain": [
              "'In a city with a population of 35000, we predict a profit of $4519.77'"
            ],
            "application/vnd.google.colaboratory.intrinsic+json": {
              "type": "string"
            }
          },
          "metadata": {},
          "execution_count": 29
        }
      ],
      "source": [
        "prediction = np.array([1, 3.5]).dot(theta) * 10000 # don't forget to multiply the prediction by 10000\n",
        "'In a city with a population of 35000, we predict a profit of $%.2f' % prediction"
      ]
    },
    {
      "cell_type": "markdown",
      "metadata": {
        "id": "W59iLif5edBs"
      },
      "source": [
        "\n",
        "## Multivariate Linear Regression\n",
        "\n",
        "---\n",
        "In this part, you will implement linear regression with multiple variables to predict the prices of houses. Suppose you are selling your house and you want to know what a good market price would be. One way to do this is to first collect information on recent houses sold and make a model of housing prices."
      ]
    },
    {
      "cell_type": "code",
      "execution_count": 31,
      "metadata": {
        "scrolled": true,
        "colab": {
          "base_uri": "https://localhost:8080/",
          "height": 417
        },
        "id": "6ovhUjB3edBs",
        "outputId": "728d4cdd-a05f-49aa-bea2-082e706e0688"
      },
      "outputs": [
        {
          "output_type": "stream",
          "name": "stdout",
          "text": [
            "--2025-04-09 13:07:00--  https://raw.githubusercontent.com/annigue/CS229-Python/master/ex1/ex1data2.txt\n",
            "Resolving raw.githubusercontent.com (raw.githubusercontent.com)... 185.199.108.133, 185.199.109.133, 185.199.110.133, ...\n",
            "Connecting to raw.githubusercontent.com (raw.githubusercontent.com)|185.199.108.133|:443... connected.\n",
            "HTTP request sent, awaiting response... 200 OK\n",
            "Length: 657 [text/plain]\n",
            "Saving to: ‘ex1data2.txt.1’\n",
            "\n",
            "ex1data2.txt.1      100%[===================>]     657  --.-KB/s    in 0s      \n",
            "\n",
            "2025-04-09 13:07:00 (31.9 MB/s) - ‘ex1data2.txt.1’ saved [657/657]\n",
            "\n"
          ]
        },
        {
          "output_type": "execute_result",
          "data": {
            "text/plain": [
              "   Size  Bedrooms   Price\n",
              "0  2104         3  399900\n",
              "1  1600         3  329900\n",
              "2  2400         3  369000\n",
              "3  1416         2  232000\n",
              "4  3000         4  539900"
            ],
            "text/html": [
              "\n",
              "  <div id=\"df-f019f2d5-b890-43a9-b0b7-75cbc7876948\" class=\"colab-df-container\">\n",
              "    <div>\n",
              "<style scoped>\n",
              "    .dataframe tbody tr th:only-of-type {\n",
              "        vertical-align: middle;\n",
              "    }\n",
              "\n",
              "    .dataframe tbody tr th {\n",
              "        vertical-align: top;\n",
              "    }\n",
              "\n",
              "    .dataframe thead th {\n",
              "        text-align: right;\n",
              "    }\n",
              "</style>\n",
              "<table border=\"1\" class=\"dataframe\">\n",
              "  <thead>\n",
              "    <tr style=\"text-align: right;\">\n",
              "      <th></th>\n",
              "      <th>Size</th>\n",
              "      <th>Bedrooms</th>\n",
              "      <th>Price</th>\n",
              "    </tr>\n",
              "  </thead>\n",
              "  <tbody>\n",
              "    <tr>\n",
              "      <th>0</th>\n",
              "      <td>2104</td>\n",
              "      <td>3</td>\n",
              "      <td>399900</td>\n",
              "    </tr>\n",
              "    <tr>\n",
              "      <th>1</th>\n",
              "      <td>1600</td>\n",
              "      <td>3</td>\n",
              "      <td>329900</td>\n",
              "    </tr>\n",
              "    <tr>\n",
              "      <th>2</th>\n",
              "      <td>2400</td>\n",
              "      <td>3</td>\n",
              "      <td>369000</td>\n",
              "    </tr>\n",
              "    <tr>\n",
              "      <th>3</th>\n",
              "      <td>1416</td>\n",
              "      <td>2</td>\n",
              "      <td>232000</td>\n",
              "    </tr>\n",
              "    <tr>\n",
              "      <th>4</th>\n",
              "      <td>3000</td>\n",
              "      <td>4</td>\n",
              "      <td>539900</td>\n",
              "    </tr>\n",
              "  </tbody>\n",
              "</table>\n",
              "</div>\n",
              "    <div class=\"colab-df-buttons\">\n",
              "\n",
              "  <div class=\"colab-df-container\">\n",
              "    <button class=\"colab-df-convert\" onclick=\"convertToInteractive('df-f019f2d5-b890-43a9-b0b7-75cbc7876948')\"\n",
              "            title=\"Convert this dataframe to an interactive table.\"\n",
              "            style=\"display:none;\">\n",
              "\n",
              "  <svg xmlns=\"http://www.w3.org/2000/svg\" height=\"24px\" viewBox=\"0 -960 960 960\">\n",
              "    <path d=\"M120-120v-720h720v720H120Zm60-500h600v-160H180v160Zm220 220h160v-160H400v160Zm0 220h160v-160H400v160ZM180-400h160v-160H180v160Zm440 0h160v-160H620v160ZM180-180h160v-160H180v160Zm440 0h160v-160H620v160Z\"/>\n",
              "  </svg>\n",
              "    </button>\n",
              "\n",
              "  <style>\n",
              "    .colab-df-container {\n",
              "      display:flex;\n",
              "      gap: 12px;\n",
              "    }\n",
              "\n",
              "    .colab-df-convert {\n",
              "      background-color: #E8F0FE;\n",
              "      border: none;\n",
              "      border-radius: 50%;\n",
              "      cursor: pointer;\n",
              "      display: none;\n",
              "      fill: #1967D2;\n",
              "      height: 32px;\n",
              "      padding: 0 0 0 0;\n",
              "      width: 32px;\n",
              "    }\n",
              "\n",
              "    .colab-df-convert:hover {\n",
              "      background-color: #E2EBFA;\n",
              "      box-shadow: 0px 1px 2px rgba(60, 64, 67, 0.3), 0px 1px 3px 1px rgba(60, 64, 67, 0.15);\n",
              "      fill: #174EA6;\n",
              "    }\n",
              "\n",
              "    .colab-df-buttons div {\n",
              "      margin-bottom: 4px;\n",
              "    }\n",
              "\n",
              "    [theme=dark] .colab-df-convert {\n",
              "      background-color: #3B4455;\n",
              "      fill: #D2E3FC;\n",
              "    }\n",
              "\n",
              "    [theme=dark] .colab-df-convert:hover {\n",
              "      background-color: #434B5C;\n",
              "      box-shadow: 0px 1px 3px 1px rgba(0, 0, 0, 0.15);\n",
              "      filter: drop-shadow(0px 1px 2px rgba(0, 0, 0, 0.3));\n",
              "      fill: #FFFFFF;\n",
              "    }\n",
              "  </style>\n",
              "\n",
              "    <script>\n",
              "      const buttonEl =\n",
              "        document.querySelector('#df-f019f2d5-b890-43a9-b0b7-75cbc7876948 button.colab-df-convert');\n",
              "      buttonEl.style.display =\n",
              "        google.colab.kernel.accessAllowed ? 'block' : 'none';\n",
              "\n",
              "      async function convertToInteractive(key) {\n",
              "        const element = document.querySelector('#df-f019f2d5-b890-43a9-b0b7-75cbc7876948');\n",
              "        const dataTable =\n",
              "          await google.colab.kernel.invokeFunction('convertToInteractive',\n",
              "                                                    [key], {});\n",
              "        if (!dataTable) return;\n",
              "\n",
              "        const docLinkHtml = 'Like what you see? Visit the ' +\n",
              "          '<a target=\"_blank\" href=https://colab.research.google.com/notebooks/data_table.ipynb>data table notebook</a>'\n",
              "          + ' to learn more about interactive tables.';\n",
              "        element.innerHTML = '';\n",
              "        dataTable['output_type'] = 'display_data';\n",
              "        await google.colab.output.renderOutput(dataTable, element);\n",
              "        const docLink = document.createElement('div');\n",
              "        docLink.innerHTML = docLinkHtml;\n",
              "        element.appendChild(docLink);\n",
              "      }\n",
              "    </script>\n",
              "  </div>\n",
              "\n",
              "\n",
              "<div id=\"df-41d3407a-e470-47fe-a7e2-487efb5ce41d\">\n",
              "  <button class=\"colab-df-quickchart\" onclick=\"quickchart('df-41d3407a-e470-47fe-a7e2-487efb5ce41d')\"\n",
              "            title=\"Suggest charts\"\n",
              "            style=\"display:none;\">\n",
              "\n",
              "<svg xmlns=\"http://www.w3.org/2000/svg\" height=\"24px\"viewBox=\"0 0 24 24\"\n",
              "     width=\"24px\">\n",
              "    <g>\n",
              "        <path d=\"M19 3H5c-1.1 0-2 .9-2 2v14c0 1.1.9 2 2 2h14c1.1 0 2-.9 2-2V5c0-1.1-.9-2-2-2zM9 17H7v-7h2v7zm4 0h-2V7h2v10zm4 0h-2v-4h2v4z\"/>\n",
              "    </g>\n",
              "</svg>\n",
              "  </button>\n",
              "\n",
              "<style>\n",
              "  .colab-df-quickchart {\n",
              "      --bg-color: #E8F0FE;\n",
              "      --fill-color: #1967D2;\n",
              "      --hover-bg-color: #E2EBFA;\n",
              "      --hover-fill-color: #174EA6;\n",
              "      --disabled-fill-color: #AAA;\n",
              "      --disabled-bg-color: #DDD;\n",
              "  }\n",
              "\n",
              "  [theme=dark] .colab-df-quickchart {\n",
              "      --bg-color: #3B4455;\n",
              "      --fill-color: #D2E3FC;\n",
              "      --hover-bg-color: #434B5C;\n",
              "      --hover-fill-color: #FFFFFF;\n",
              "      --disabled-bg-color: #3B4455;\n",
              "      --disabled-fill-color: #666;\n",
              "  }\n",
              "\n",
              "  .colab-df-quickchart {\n",
              "    background-color: var(--bg-color);\n",
              "    border: none;\n",
              "    border-radius: 50%;\n",
              "    cursor: pointer;\n",
              "    display: none;\n",
              "    fill: var(--fill-color);\n",
              "    height: 32px;\n",
              "    padding: 0;\n",
              "    width: 32px;\n",
              "  }\n",
              "\n",
              "  .colab-df-quickchart:hover {\n",
              "    background-color: var(--hover-bg-color);\n",
              "    box-shadow: 0 1px 2px rgba(60, 64, 67, 0.3), 0 1px 3px 1px rgba(60, 64, 67, 0.15);\n",
              "    fill: var(--button-hover-fill-color);\n",
              "  }\n",
              "\n",
              "  .colab-df-quickchart-complete:disabled,\n",
              "  .colab-df-quickchart-complete:disabled:hover {\n",
              "    background-color: var(--disabled-bg-color);\n",
              "    fill: var(--disabled-fill-color);\n",
              "    box-shadow: none;\n",
              "  }\n",
              "\n",
              "  .colab-df-spinner {\n",
              "    border: 2px solid var(--fill-color);\n",
              "    border-color: transparent;\n",
              "    border-bottom-color: var(--fill-color);\n",
              "    animation:\n",
              "      spin 1s steps(1) infinite;\n",
              "  }\n",
              "\n",
              "  @keyframes spin {\n",
              "    0% {\n",
              "      border-color: transparent;\n",
              "      border-bottom-color: var(--fill-color);\n",
              "      border-left-color: var(--fill-color);\n",
              "    }\n",
              "    20% {\n",
              "      border-color: transparent;\n",
              "      border-left-color: var(--fill-color);\n",
              "      border-top-color: var(--fill-color);\n",
              "    }\n",
              "    30% {\n",
              "      border-color: transparent;\n",
              "      border-left-color: var(--fill-color);\n",
              "      border-top-color: var(--fill-color);\n",
              "      border-right-color: var(--fill-color);\n",
              "    }\n",
              "    40% {\n",
              "      border-color: transparent;\n",
              "      border-right-color: var(--fill-color);\n",
              "      border-top-color: var(--fill-color);\n",
              "    }\n",
              "    60% {\n",
              "      border-color: transparent;\n",
              "      border-right-color: var(--fill-color);\n",
              "    }\n",
              "    80% {\n",
              "      border-color: transparent;\n",
              "      border-right-color: var(--fill-color);\n",
              "      border-bottom-color: var(--fill-color);\n",
              "    }\n",
              "    90% {\n",
              "      border-color: transparent;\n",
              "      border-bottom-color: var(--fill-color);\n",
              "    }\n",
              "  }\n",
              "</style>\n",
              "\n",
              "  <script>\n",
              "    async function quickchart(key) {\n",
              "      const quickchartButtonEl =\n",
              "        document.querySelector('#' + key + ' button');\n",
              "      quickchartButtonEl.disabled = true;  // To prevent multiple clicks.\n",
              "      quickchartButtonEl.classList.add('colab-df-spinner');\n",
              "      try {\n",
              "        const charts = await google.colab.kernel.invokeFunction(\n",
              "            'suggestCharts', [key], {});\n",
              "      } catch (error) {\n",
              "        console.error('Error during call to suggestCharts:', error);\n",
              "      }\n",
              "      quickchartButtonEl.classList.remove('colab-df-spinner');\n",
              "      quickchartButtonEl.classList.add('colab-df-quickchart-complete');\n",
              "    }\n",
              "    (() => {\n",
              "      let quickchartButtonEl =\n",
              "        document.querySelector('#df-41d3407a-e470-47fe-a7e2-487efb5ce41d button');\n",
              "      quickchartButtonEl.style.display =\n",
              "        google.colab.kernel.accessAllowed ? 'block' : 'none';\n",
              "    })();\n",
              "  </script>\n",
              "</div>\n",
              "\n",
              "    </div>\n",
              "  </div>\n"
            ],
            "application/vnd.google.colaboratory.intrinsic+json": {
              "type": "dataframe",
              "variable_name": "data",
              "summary": "{\n  \"name\": \"data\",\n  \"rows\": 47,\n  \"fields\": [\n    {\n      \"column\": \"Size\",\n      \"properties\": {\n        \"dtype\": \"number\",\n        \"std\": 794,\n        \"min\": 852,\n        \"max\": 4478,\n        \"num_unique_values\": 47,\n        \"samples\": [\n          2526,\n          2162,\n          1458\n        ],\n        \"semantic_type\": \"\",\n        \"description\": \"\"\n      }\n    },\n    {\n      \"column\": \"Bedrooms\",\n      \"properties\": {\n        \"dtype\": \"number\",\n        \"std\": 0,\n        \"min\": 1,\n        \"max\": 5,\n        \"num_unique_values\": 5,\n        \"samples\": [\n          2,\n          1,\n          4\n        ],\n        \"semantic_type\": \"\",\n        \"description\": \"\"\n      }\n    },\n    {\n      \"column\": \"Price\",\n      \"properties\": {\n        \"dtype\": \"number\",\n        \"std\": 125039,\n        \"min\": 169900,\n        \"max\": 699900,\n        \"num_unique_values\": 40,\n        \"samples\": [\n          252900,\n          199900,\n          449900\n        ],\n        \"semantic_type\": \"\",\n        \"description\": \"\"\n      }\n    }\n  ]\n}"
            }
          },
          "metadata": {},
          "execution_count": 31
        }
      ],
      "source": [
        "# load data\n",
        "!wget https://raw.githubusercontent.com/annigue/CS229-Python/master/ex1/ex1data2.txt\n",
        "data = pd.read_csv(\"ex1data2.txt\", header = None, names=[\"Size\", \"Bedrooms\",\"Price\"])\n",
        "m = len(data)\n",
        "\n",
        "# es gibt jetzt mehrere Variablen, die in X enthalten sind\n",
        "\n",
        "# Initialize X, y and theta\n",
        "x0 = np.ones(m)\n",
        "size = np.array((data[\"Size\"]))\n",
        "bedrooms = np.array((data[\"Bedrooms\"]))\n",
        "X = np.array([x0, size, bedrooms]).T #X ist eine Feature-Matrix mit m Zeilen (Beispielen) und n+1 Spalten (Features + Bias-Term).\n",
        "y = np.array(data[\"Price\"]).reshape(len(data.index), 1)\n",
        "theta_init = np.zeros((3,1)) # → Ein Parameter (Gewicht) pro Feature plus eins für den Bias:\n",
        "\n",
        "data.head()"
      ]
    },
    {
      "cell_type": "markdown",
      "metadata": {
        "id": "15yVO3VjedBt"
      },
      "source": [
        "### Feature Normalization\n",
        "When features differ by order of magnitude, first performing feature scaling can make gradient descent converge much more quickly. Formally:\n",
        "\n",
        "$x := \\frac{x - \\mu}{\\sigma}$\n",
        "\n",
        "Where $\\mu$ is the average and $\\sigma$ the standard deviation.\n",
        "\n",
        "**Important**: It is crucial to store $\\mu$ and $\\sigma$ if you want to make predictions using the model later.\n",
        "\n",
        "**Exercise**: Perform feature normalization on the following dataset."
      ]
    },
    {
      "cell_type": "code",
      "execution_count": 32,
      "metadata": {
        "colab": {
          "base_uri": "https://localhost:8080/"
        },
        "id": "6DCANiS5edBt",
        "outputId": "e5f7b454-220c-427b-8c46-aa24031fe1ea"
      },
      "outputs": [
        {
          "output_type": "execute_result",
          "data": {
            "text/plain": [
              "array([[ 1.        ,  0.13141542, -0.22609337],\n",
              "       [ 1.        , -0.5096407 , -0.22609337],\n",
              "       [ 1.        ,  0.5079087 , -0.22609337],\n",
              "       [ 1.        , -0.74367706, -1.5543919 ],\n",
              "       [ 1.        ,  1.27107075,  1.10220517]])"
            ]
          },
          "metadata": {},
          "execution_count": 32
        }
      ],
      "source": [
        "#Die Werte von Size (z. B. 2104) sind viel größer als die von Bedrooms (z. B. 3).\n",
        "# Das führt dazu, dass Gradient Descent sehr langsam oder nicht stabil konvergiert.\n",
        "# Eine Normalisierung kann hier helfen\n",
        "\n",
        "# perform normalization\n",
        "def normalize(X):\n",
        "    \"\"\" Normalizes the features in X\n",
        "\n",
        "    returns a normalized version of X where\n",
        "    the mean value of each feature is 0 and the standard deviation\n",
        "    is 1. This is often a good preprocessing step to do when\n",
        "    working with learning algorithms.\n",
        "    \"\"\"\n",
        "    #→ Für jede Spalte (Feature) berechnest du den Mittelwert mu und die Standardabweichung sigma.\n",
        "    mu = np.mean(X, axis=0)  # Mittelwert\n",
        "    sigma = np.std(X, axis=0)  # Standardabweichung\n",
        "\n",
        "    # Setze sigma auf 1, falls es 0 ist (um division by zero zu verhindern)\n",
        "    sigma[sigma == 0] = 1\n",
        "\n",
        "    X = (X - mu) / (sigma + 1e-10) #Jedes Feature wird zentriert (minus Mittelwert) und dann skaliert (geteilt durch σ).\n",
        "    # Das + 1e-10 ist ein numerischer Schutz, damit du nie durch 0 teilst – clever!\n",
        "\n",
        "\n",
        "    return X, mu, sigma\n",
        "\n",
        "X[:, 1:], mu, sigma = normalize(X[:, 1:]) # Feature Matrix wird mit der normalisierten Version ersetzt\n",
        "# Aber die Bias SPalte bleibt bei 1, sonst wäre sie nutzlos\n",
        "X[0:5]"
      ]
    },
    {
      "cell_type": "markdown",
      "metadata": {
        "id": "85iiGE_BedBt"
      },
      "source": [
        "## Gradient Descent\n",
        "\n",
        "Remember the algorithm for gradient descent:\n",
        "\n",
        "$repeat \\ \\{ \\\\ \\enspace \\theta_j := \\theta_j - \\alpha \\frac{1}{m}\\displaystyle\\sum_{i = 1}^{m}(h_\\theta(x^{(i)})-y^{(i)})x_j^{(i)}\\\\\\}$\n",
        "\n",
        "The vectorization for multivariate gradient descent:\n",
        "\n",
        "$\\theta := \\theta - \\frac{\\alpha}{m}X^T(X\\theta - \\vec{y})$\n",
        "\n",
        "**Exercise**: Implement gradient descent for multiple features. Make sure your solution is vectorized and supports any number of features."
      ]
    },
    {
      "cell_type": "code",
      "execution_count": 35,
      "metadata": {
        "colab": {
          "base_uri": "https://localhost:8080/"
        },
        "id": "wivXwqtdedBt",
        "outputId": "138d6730-a426-444b-82f8-025dbb834da6"
      },
      "outputs": [
        {
          "output_type": "execute_result",
          "data": {
            "text/plain": [
              "array([[340412.56301439],\n",
              "       [109370.05670462],\n",
              "       [ -6500.61509587]])"
            ]
          },
          "metadata": {},
          "execution_count": 35
        }
      ],
      "source": [
        "def gradient_descent_multi(X, y, theta, alpha, iterations):\n",
        "    m = len(y)\n",
        "    J_history = []\n",
        "\n",
        "    for i in range(iterations):\n",
        "        predictions = X @ theta #Vorhersage\n",
        "        errors = predictions - y #Fehler\n",
        "        theta = theta - (alpha / m) * (X.T @ errors) #Gradientenabstieg\n",
        "\n",
        "        # Sicherstellen, dass die Kostenfunktion keine NaNs zurückgibt\n",
        "        cost = cost_function(X, y, theta)\n",
        "        #→ Prüfen, ob die Kostenfunktion NaN zurückgibt (z. B. wegen zu großer Lernrate)\n",
        "        if np.isnan(cost).any():\n",
        "            print(\"NaN detected in cost function at iteration\", i)\n",
        "            break\n",
        "\n",
        "        J_history.append(cost[0, 0])\n",
        "\n",
        "    return theta, J_history\n",
        "\n",
        "# Lernrate verringern und testen\n",
        "alpha = 0.01\n",
        "iterations = 1500\n",
        "initial_theta = np.zeros((3,1))\n",
        "#→ Du brauchst ein Gewicht pro Feature, plus eins für den Bias-Term.\n",
        "#(Früher bei univariat hattest du nur 2 Werte: Bias + 1 Feature)\n",
        "theta, J_history = gradient_descent_multi(X, y, initial_theta, alpha, iterations)\n",
        "theta\n"
      ]
    },
    {
      "cell_type": "markdown",
      "metadata": {
        "id": "2SoGUsOxedBt"
      },
      "source": [
        "As before we see how the cost decreases over time."
      ]
    },
    {
      "cell_type": "markdown",
      "source": [
        "Interpretation der theta-Werte:\n",
        "Theta_0 (Bias):\n",
        "340412.56301439\n",
        "Das ist der Bias-Term für die Vorhersage. Er gibt den Grundwert für den Preis (y), auch wenn keine weiteren Informationen (z. B. keine Größe oder Schlafzimmer) vorhanden sind. In diesem Fall bedeutet das, dass ohne ein anderes Feature der Grundpreis des Hauses etwa 340,413 ist (die Währungseinheit hängt davon ab, wie du deine Daten kodiert hast – hier vermutlich USD).\n",
        "\n",
        "Theta_1 (Größe):\n",
        "109370.05670462\n",
        "Dieser Wert gibt an, wie viel der Preis des Hauses für jede zusätzliche Quadratmeter Wohnfläche (Size) erhöht wird. Für jedes zusätzliche Quadratmeter Wohnfläche wird der Preis des Hauses um etwa 109,370 Einheiten (wahrscheinlich Dollar) steigen.\n",
        "\n",
        "Theta_2 (Schlafzimmer):\n",
        "-6500.61509587\n",
        "Dieser Wert beschreibt, wie sich die Anzahl der Schlafzimmer auf den Preis auswirkt. In diesem Fall gibt der Wert an, dass jede zusätzliche Schlafzimmer den Preis um etwa -6,500 Einheiten senkt. Das bedeutet, dass Häuser mit mehr Schlafzimmern tendenziell günstiger sind (was bei Immobilien je nach Markt und Region unterschiedlich sein könnte)."
      ],
      "metadata": {
        "id": "_sp3kCoX-Pmr"
      }
    },
    {
      "cell_type": "code",
      "execution_count": 36,
      "metadata": {
        "colab": {
          "base_uri": "https://localhost:8080/",
          "height": 489
        },
        "id": "K3EOeRPXedBt",
        "outputId": "89fcc1e9-13c3-4659-9c4e-cfac2abd484b"
      },
      "outputs": [
        {
          "output_type": "execute_result",
          "data": {
            "text/plain": [
              "Text(0, 0.5, 'cost')"
            ]
          },
          "metadata": {},
          "execution_count": 36
        },
        {
          "output_type": "display_data",
          "data": {
            "text/plain": [
              "<Figure size 640x480 with 1 Axes>"
            ],
            "image/png": "[encoded data removed]"
          },
          "metadata": {}
        }
      ],
      "source": [
        "plt.plot(J_history)\n",
        "plt.title('J per iteration')\n",
        "plt.xlabel('iteration')\n",
        "plt.ylabel('cost')"
      ]
    },
    {
      "cell_type": "markdown",
      "metadata": {
        "id": "QuQNMgKxedBt"
      },
      "source": [
        "If we want to make a prediction on a normalized dataset, we have to normalize our input too."
      ]
    },
    {
      "cell_type": "code",
      "execution_count": 39,
      "metadata": {
        "id": "bZe9sGe6edBt",
        "outputId": "ed429d4e-afc7-4cdc-e6cb-1ac745002079",
        "colab": {
          "base_uri": "https://localhost:8080/"
        }
      },
      "outputs": [
        {
          "output_type": "stream",
          "name": "stdout",
          "text": [
            "In a house of 1650 square feet with 3 rooms, we predict a price of $293098.47\n"
          ]
        },
        {
          "output_type": "stream",
          "name": "stderr",
          "text": [
            "<ipython-input-39-ae27e0f669c5>:2: DeprecationWarning: Conversion of an array with ndim > 0 to a scalar is deprecated, and will error in future. Ensure you extract a single element from your array before performing this operation. (Deprecated NumPy 1.25.)\n",
            "  print('In a house of 1650 square feet with 3 rooms, we predict a price of $%.2f' % price)\n"
          ]
        }
      ],
      "source": [
        "price = theta.transpose() @ np.array([1, (1650 - mu[0]) / sigma[0], (3 - mu[1]) / sigma[1]])  # normalize the input\n",
        "print('In a house of 1650 square feet with 3 rooms, we predict a price of $%.2f' % price)\n"
      ]
    },
    {
      "cell_type": "markdown",
      "metadata": {
        "id": "FFpCDOxmedBt"
      },
      "source": [
        "### Using normal equations\n",
        "We can use normal equations to get the exact solution in only one calculation. Although using normal equations is very fast for a small datasets with a small number of features, it can be inefficient for larger datasets because the complexity of matrix multiplication is $O(n^3)$.\n",
        "\n",
        "The normal equation for linear regression is:\n",
        "\n",
        "$\\theta = 􏰅 (X^TX)^{−1}X^T\\vec{y}$\n",
        "\n",
        "**Exercise**: Find theta using normal equations."
      ]
    },
    {
      "cell_type": "code",
      "execution_count": 40,
      "metadata": {
        "colab": {
          "base_uri": "https://localhost:8080/"
        },
        "id": "Xz5T3k7GedBt",
        "outputId": "fc7e4a44-d50a-4176-bc92-5b27f9973dd2"
      },
      "outputs": [
        {
          "output_type": "execute_result",
          "data": {
            "text/plain": [
              "array([[340412.56301439],\n",
              "       [109370.05670462],\n",
              "       [ -6500.61509587]])"
            ]
          },
          "metadata": {},
          "execution_count": 40
        }
      ],
      "source": [
        "import numpy as np\n",
        "\n",
        "def normal_equation(X, y):\n",
        "    \"\"\"\n",
        "    Berechnet die Werte für theta mit der Normalengleichung.\n",
        "\n",
        "    X: Feature-Matrix (m x n+1), wobei die erste Spalte 1 für den Bias-Term enthält\n",
        "    y: Zielwerte (m x 1)\n",
        "\n",
        "    Rückgabe: theta (n+1 x 1)\n",
        "    \"\"\"\n",
        "    # Berechnung der Normalengleichung: theta = (X^T X)^(-1) X^T y\n",
        "    return np.linalg.inv(X.T @ X) @ X.T @ y\n",
        "\n",
        "# Beispiel: Angenommen, du hast X und y schon definiert und normalisiert\n",
        "theta_normal = normal_equation(X, y)\n",
        "print(\"Theta aus der Normalengleichung:\")\n",
        "print(theta_normal)\n",
        "\n"
      ]
    },
    {
      "cell_type": "code",
      "execution_count": 43,
      "metadata": {
        "colab": {
          "base_uri": "https://localhost:8080/"
        },
        "id": "A6Ms5cgpedBt",
        "outputId": "3b8d2a7c-8003-454f-83b2-5b79fb178444"
      },
      "outputs": [
        {
          "output_type": "stream",
          "name": "stdout",
          "text": [
            "In a house of 1650 square feet with 3 rooms, we predict a price of $293098.47\n"
          ]
        },
        {
          "output_type": "stream",
          "name": "stderr",
          "text": [
            "<ipython-input-43-ae27e0f669c5>:2: DeprecationWarning: Conversion of an array with ndim > 0 to a scalar is deprecated, and will error in future. Ensure you extract a single element from your array before performing this operation. (Deprecated NumPy 1.25.)\n",
            "  print('In a house of 1650 square feet with 3 rooms, we predict a price of $%.2f' % price)\n"
          ]
        }
      ],
      "source": [
        "price = theta.transpose() @ np.array([1, (1650 - mu[0]) / sigma[0], (3 - mu[1]) / sigma[1]])  # normalize the input\n",
        "print('In a house of 1650 square feet with 3 rooms, we predict a price of $%.2f' % price)\n"
      ]
    },
    {
      "cell_type": "code",
      "source": [],
      "metadata": {
        "id": "G8R1wwbd_s60"
      },
      "execution_count": null,
      "outputs": []
    }
  ],
  "metadata": {
    "kernelspec": {
      "display_name": "Python 3",
      "language": "python",
      "name": "python3"
    },
    "language_info": {
      "codemirror_mode": {
        "name": "ipython",
        "version": 3
      },
      "file_extension": ".py",
      "mimetype": "text/x-python",
      "name": "python",
      "nbconvert_exporter": "python",
      "pygments_lexer": "ipython3",
      "version": "3.7.1"
    },
    "colab": {
      "provenance": []
    }
  },
  "nbformat": 4,
  "nbformat_minor": 0
}